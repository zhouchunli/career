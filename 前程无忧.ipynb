{
 "cells": [
  {
   "cell_type": "code",
   "execution_count": 2,
   "metadata": {},
   "outputs": [],
   "source": [
    "from selenium import webdriver\n",
    "from selenium.webdriver.common.by import By\n",
    "from selenium.webdriver.common.keys import Keys\n",
    "from selenium.webdriver.chrome.options import Options\n",
    "global browser\n",
    "import numpy as np\n",
    "import pandas as pd\n",
    "import time\n",
    "\n",
    "path = \"D:\\Software\\chromedriver\\chromedriver.exe\" #此处需要修改为本地chromedriver地址\n",
    "browser = webdriver.Chrome(executable_path=path) #打开浏览器\n"
   ]
  },
  {
   "cell_type": "code",
   "execution_count": 119,
   "metadata": {
    "scrolled": true
   },
   "outputs": [],
   "source": [
    "#页面抓取数据方法\n",
    "def getdata(browser):\n",
    "    t1s = browser.find_elements_by_class_name('t1')\n",
    "    t2s = browser.find_elements_by_class_name('t2')\n",
    "    t3s = browser.find_elements_by_class_name('t3')\n",
    "    t4s = browser.find_elements_by_class_name('t4')\n",
    "    t5s = browser.find_elements_by_class_name('t5')\n",
    "    n = 0\n",
    "    tt = [t1s,t2s,t3s,t4s,t5s]\n",
    "    tts = [[],[],[],[],[]]\n",
    "    m =0\n",
    "    for j in tt:\n",
    "        n =0\n",
    "        for i in j:\n",
    "            if n > 0:\n",
    "                tts[m].append(i.text)\n",
    "            n = n+1\n",
    "        m = m +1\n",
    "\n",
    "    t1 = pd.DataFrame(tts[0],columns=['title'])\n",
    "    company = pd.DataFrame(tts[1],columns=['company'])\n",
    "    place = pd.DataFrame(tts[2],columns=['place'])\n",
    "    salary = pd.DataFrame(tts[3],columns=['salary'])\n",
    "    publish_time = pd.DataFrame(tts[4],columns=['publish_time'])\n",
    "    careers = t1.join(company).join(place).join(salary).join(publish_time)\n",
    "    return careers"
   ]
  },
  {
   "cell_type": "code",
   "execution_count": 140,
   "metadata": {},
   "outputs": [],
   "source": [
    "#分页抓取数据\n",
    "df = pd.DataFrame(columns=['title', 'company', 'place', 'salary', 'publish_time'])\n",
    "for i in range(20):\n",
    "    page = str(i+1)\n",
    "    url = \"https://search.51job.com/list/000000,000000,0000,00,9,99,%25E5%2582%25AC%25E6%2594%25B6%25E7%25BB%258F%25E7%2590%2586,2,\"+page+\".html?lang=c&stype=&postchannel=0000&workyear=99&cotype=99&degreefrom=99&jobterm=99&companysize=99&providesalary=99&lonlat=0%2C0&radius=-1&ord_field=0&confirmdate=9&fromType=&dibiaoid=0&address=&line=&specialarea=00&from=&welfare=\"    \n",
    "    browser.get(url)\n",
    "    tmp = getdata(browser) #抓取页面数据\n",
    "    #print(tmp.tail(1))\n",
    "    df = df.append(tmp)"
   ]
  },
  {
   "cell_type": "code",
   "execution_count": null,
   "metadata": {},
   "outputs": [],
   "source": [
    "df.tail()"
   ]
  },
  {
   "cell_type": "code",
   "execution_count": 141,
   "metadata": {},
   "outputs": [],
   "source": [
    "#将数据保存到csv文件\n",
    "df = df.reset_index().drop('index',axis=1)\n",
    "df.to_csv('前程无忧_催收经理.csv')\n"
   ]
  }
 ],
 "metadata": {
  "kernelspec": {
   "display_name": "Python 3",
   "language": "python",
   "name": "python3"
  },
  "language_info": {
   "codemirror_mode": {
    "name": "ipython",
    "version": 3
   },
   "file_extension": ".py",
   "mimetype": "text/x-python",
   "name": "python",
   "nbconvert_exporter": "python",
   "pygments_lexer": "ipython3",
   "version": "3.7.3"
  },
  "toc": {
   "base_numbering": 1,
   "nav_menu": {},
   "number_sections": true,
   "sideBar": true,
   "skip_h1_title": false,
   "title_cell": "Table of Contents",
   "title_sidebar": "Contents",
   "toc_cell": false,
   "toc_position": {},
   "toc_section_display": true,
   "toc_window_display": true
  }
 },
 "nbformat": 4,
 "nbformat_minor": 2
}
