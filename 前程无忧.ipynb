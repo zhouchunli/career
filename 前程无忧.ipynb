{
 "cells": [
  {
   "cell_type": "code",
   "execution_count": 1,
   "metadata": {},
   "outputs": [],
   "source": [
    "from selenium import webdriver\n",
    "from selenium.webdriver.common.by import By\n",
    "from selenium.webdriver.common.keys import Keys\n",
    "from selenium.webdriver.chrome.options import Options\n",
    "global browser\n",
    "import numpy as np\n",
    "import pandas as pd\n",
    "import time\n",
    "\n",
    "path = \"D:\\Software\\chromedriver\\chromedriver.exe\" #此处需要修改为本地chromedriver地址\n",
    "browser = webdriver.Chrome(executable_path=path) #打开浏览器\n"
   ]
  },
  {
   "cell_type": "code",
   "execution_count": 2,
   "metadata": {
    "scrolled": true
   },
   "outputs": [],
   "source": [
    "#页面抓取数据方法\n",
    "def getdata(browser):\n",
    "    t1s = browser.find_elements_by_class_name('t1')\n",
    "    t2s = browser.find_elements_by_class_name('t2')\n",
    "    t3s = browser.find_elements_by_class_name('t3')\n",
    "    t4s = browser.find_elements_by_class_name('t4')\n",
    "    t5s = browser.find_elements_by_class_name('t5')\n",
    "    n = 0\n",
    "    tt = [t1s,t2s,t3s,t4s,t5s]\n",
    "    tts = [[],[],[],[],[]]\n",
    "    m =0\n",
    "    for j in tt:\n",
    "        n =0\n",
    "        for i in j:\n",
    "            if n > 0:\n",
    "                tts[m].append(i.text)\n",
    "            n = n+1\n",
    "        m = m +1\n",
    "\n",
    "    t1 = pd.DataFrame(tts[0],columns=['title'])\n",
    "    company = pd.DataFrame(tts[1],columns=['company'])\n",
    "    place = pd.DataFrame(tts[2],columns=['place'])\n",
    "    salary = pd.DataFrame(tts[3],columns=['salary'])\n",
    "    publish_time = pd.DataFrame(tts[4],columns=['publish_time'])\n",
    "    careers = t1.join(company).join(place).join(salary).join(publish_time)\n",
    "    return careers"
   ]
  },
  {
   "cell_type": "code",
   "execution_count": 14,
   "metadata": {},
   "outputs": [],
   "source": [
    "#分页抓取数据\n",
    "df = pd.DataFrame(columns=['title', 'company', 'place', 'salary', 'publish_time'])\n",
    "for i in range(6):\n",
    "    page = str(i+1)\n",
    "    url = \"https://search.51job.com/list/000000,000000,0000,00,9,99,%25E6%2595%25B0%25E6%258D%25AE%25E6%258C%2596%25E6%258E%2598,2,\"+page+\".html?lang=c&stype=&postchannel=0000&workyear=99&cotype=99&degreefrom=99&jobterm=99&companysize=99&providesalary=99&lonlat=0%2C0&radius=-1&ord_field=0&confirmdate=9&fromType=&dibiaoid=0&address=&line=&specialarea=00&from=&welfare=\"    \n",
    "    browser.get(url)\n",
    "    tmp = getdata(browser) #抓取页面数据\n",
    "    #print(tmp.tail(1))\n",
    "    df = df.append(tmp)"
   ]
  },
  {
   "cell_type": "code",
   "execution_count": 16,
   "metadata": {},
   "outputs": [
    {
     "data": {
      "text/html": [
       "<div>\n",
       "<style scoped>\n",
       "    .dataframe tbody tr th:only-of-type {\n",
       "        vertical-align: middle;\n",
       "    }\n",
       "\n",
       "    .dataframe tbody tr th {\n",
       "        vertical-align: top;\n",
       "    }\n",
       "\n",
       "    .dataframe thead th {\n",
       "        text-align: right;\n",
       "    }\n",
       "</style>\n",
       "<table border=\"1\" class=\"dataframe\">\n",
       "  <thead>\n",
       "    <tr style=\"text-align: right;\">\n",
       "      <th></th>\n",
       "      <th>title</th>\n",
       "      <th>company</th>\n",
       "      <th>place</th>\n",
       "      <th>salary</th>\n",
       "      <th>publish_time</th>\n",
       "    </tr>\n",
       "  </thead>\n",
       "  <tbody>\n",
       "    <tr>\n",
       "      <th>45</th>\n",
       "      <td>数据挖掘工程师</td>\n",
       "      <td>MobData大数据云平台</td>\n",
       "      <td>上海-徐汇区</td>\n",
       "      <td>1.5-2万/月</td>\n",
       "      <td>02-12</td>\n",
       "    </tr>\n",
       "    <tr>\n",
       "      <th>46</th>\n",
       "      <td>数据挖掘实习生</td>\n",
       "      <td>释斯科技（上海）有限公司</td>\n",
       "      <td>杭州-余杭区</td>\n",
       "      <td>200元/天</td>\n",
       "      <td>02-10</td>\n",
       "    </tr>\n",
       "    <tr>\n",
       "      <th>47</th>\n",
       "      <td>软件工程师（数据挖掘方向）</td>\n",
       "      <td>方大集团股份有限公司</td>\n",
       "      <td>深圳-南山区</td>\n",
       "      <td>2-4万/月</td>\n",
       "      <td>02-09</td>\n",
       "    </tr>\n",
       "    <tr>\n",
       "      <th>48</th>\n",
       "      <td>高级数据挖掘分析师</td>\n",
       "      <td>成都海天数联科技有限公司</td>\n",
       "      <td>成都-高新区</td>\n",
       "      <td>1.5-2.5万/月</td>\n",
       "      <td>02-09</td>\n",
       "    </tr>\n",
       "    <tr>\n",
       "      <th>49</th>\n",
       "      <td>数据挖掘工程师</td>\n",
       "      <td>普育吧科教技术（北京）有限公司华...</td>\n",
       "      <td>武汉</td>\n",
       "      <td>1-1.5万/月</td>\n",
       "      <td>02-08</td>\n",
       "    </tr>\n",
       "  </tbody>\n",
       "</table>\n",
       "</div>"
      ],
      "text/plain": [
       "            title              company   place      salary publish_time\n",
       "45        数据挖掘工程师        MobData大数据云平台  上海-徐汇区    1.5-2万/月        02-12\n",
       "46        数据挖掘实习生         释斯科技（上海）有限公司  杭州-余杭区      200元/天        02-10\n",
       "47  软件工程师（数据挖掘方向）           方大集团股份有限公司  深圳-南山区      2-4万/月        02-09\n",
       "48      高级数据挖掘分析师         成都海天数联科技有限公司  成都-高新区  1.5-2.5万/月        02-09\n",
       "49        数据挖掘工程师  普育吧科教技术（北京）有限公司华...      武汉    1-1.5万/月        02-08"
      ]
     },
     "execution_count": 16,
     "metadata": {},
     "output_type": "execute_result"
    }
   ],
   "source": [
    "df.tail()"
   ]
  },
  {
   "cell_type": "code",
   "execution_count": 19,
   "metadata": {},
   "outputs": [],
   "source": [
    "#将数据保存到csv文件\n",
    "df = df.reset_index().drop('index',axis=1)\n",
    "df.to_csv('前程无忧_数据挖掘.csv')\n"
   ]
  },
  {
   "cell_type": "code",
   "execution_count": null,
   "metadata": {},
   "outputs": [],
   "source": []
  }
 ],
 "metadata": {
  "kernelspec": {
   "display_name": "Python 3",
   "language": "python",
   "name": "python3"
  },
  "language_info": {
   "codemirror_mode": {
    "name": "ipython",
    "version": 3
   },
   "file_extension": ".py",
   "mimetype": "text/x-python",
   "name": "python",
   "nbconvert_exporter": "python",
   "pygments_lexer": "ipython3",
   "version": "3.7.3"
  },
  "toc": {
   "base_numbering": 1,
   "nav_menu": {},
   "number_sections": true,
   "sideBar": true,
   "skip_h1_title": false,
   "title_cell": "Table of Contents",
   "title_sidebar": "Contents",
   "toc_cell": false,
   "toc_position": {},
   "toc_section_display": true,
   "toc_window_display": true
  }
 },
 "nbformat": 4,
 "nbformat_minor": 2
}
